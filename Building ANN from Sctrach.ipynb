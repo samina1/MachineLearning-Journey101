{
 "cells": [
  {
   "cell_type": "code",
   "execution_count": 1,
   "id": "f268d948",
   "metadata": {},
   "outputs": [
    {
     "name": "stdout",
     "output_type": "stream",
     "text": [
      "Output of the neural network (y_pred): 0.7798896135996989\n"
     ]
    }
   ],
   "source": [
    "import numpy as np\n",
    "\n",
    "# Sigmoid function\n",
    "def sigmoid(x):\n",
    "    return 1 / (1 + np.exp(-x))\n",
    "\n",
    "# Input data\n",
    "x1 = 0.5\n",
    "x2 = 0.3\n",
    "\n",
    "# Weights and biases for the hidden layer\n",
    "w11, w12 = 0.4, 0.6  # Weights for neuron 1 in hidden layer\n",
    "b1 = 0.1  # Bias for neuron 1\n",
    "\n",
    "w21, w22 = 0.5, 0.9  # Weights for neuron 2 in hidden layer\n",
    "b2 = 0.2  # Bias for neuron 2\n",
    "\n",
    "# Weights and bias for the output layer\n",
    "w_out1, w_out2 = 0.8, 0.7  # Weights for output neuron\n",
    "b_out = 0.3  # Bias for output neuron\n",
    "\n",
    "# Step 1: Compute the weighted sum for the hidden layer\n",
    "z1 = (w11 * x1) + (w12 * x2) + b1\n",
    "z2 = (w21 * x1) + (w22 * x2) + b2\n",
    "\n",
    "# Step 2: Apply sigmoid activation function\n",
    "a1 = sigmoid(z1)\n",
    "a2 = sigmoid(z2)\n",
    "\n",
    "# Step 3: Compute the weighted sum for the output neuron\n",
    "z_out = (w_out1 * a1) + (w_out2 * a2) + b_out\n",
    "\n",
    "# Step 4: Apply sigmoid activation function to the output\n",
    "y_pred = sigmoid(z_out)\n",
    "\n",
    "# Print the output\n",
    "print(f\"Output of the neural network (y_pred): {y_pred}\")\n"
   ]
  },
  {
   "cell_type": "code",
   "execution_count": 1,
   "id": "f4bbd241",
   "metadata": {},
   "outputs": [
    {
     "name": "stdout",
     "output_type": "stream",
     "text": [
      "Output of the ANN: 0.7264892453787479\n"
     ]
    }
   ],
   "source": [
    "import numpy as np\n",
    "\n",
    "# Sigmoid activation function\n",
    "def sigmoid(x):\n",
    "    return 1 / (1 + np.exp(-x))\n",
    "\n",
    "# Input features\n",
    "x1, x2 = 0.5, 0.8\n",
    "\n",
    "# Weights for input to hidden layer\n",
    "w11, w12 = 0.1, 0.3\n",
    "w21, w22 = 0.2, 0.4\n",
    "\n",
    "# Weights for hidden to output layer\n",
    "w_o1, w_o2 = 0.6, 0.5\n",
    "\n",
    "# Biases\n",
    "b_h1, b_h2 = 0.1, 0.2  # Biases for hidden layer neurons\n",
    "b_o = 0.3              # Bias for output layer neuron\n",
    "\n",
    "# Step 1: Hidden layer computations\n",
    "z_h1 = (x1 * w11) + (x2 * w21) + b_h1\n",
    "z_h2 = (x1 * w12) + (x2 * w22) + b_h2\n",
    "\n",
    "# Applying the sigmoid activation function\n",
    "h1 = sigmoid(z_h1)\n",
    "h2 = sigmoid(z_h2)\n",
    "\n",
    "# Step 2: Output layer computation\n",
    "z_o1 = (h1 * w_o1) + (h2 * w_o2) + b_o\n",
    "\n",
    "# Applying the sigmoid activation function\n",
    "o1 = sigmoid(z_o1)\n",
    "\n",
    "# Output the final result\n",
    "print(f\"Output of the ANN: {o1}\")\n"
   ]
  },
  {
   "cell_type": "code",
   "execution_count": null,
   "id": "9e6985df",
   "metadata": {},
   "outputs": [],
   "source": []
  }
 ],
 "metadata": {
  "kernelspec": {
   "display_name": "Python 3 (ipykernel)",
   "language": "python",
   "name": "python3"
  },
  "language_info": {
   "codemirror_mode": {
    "name": "ipython",
    "version": 3
   },
   "file_extension": ".py",
   "mimetype": "text/x-python",
   "name": "python",
   "nbconvert_exporter": "python",
   "pygments_lexer": "ipython3",
   "version": "3.9.12"
  }
 },
 "nbformat": 4,
 "nbformat_minor": 5
}
